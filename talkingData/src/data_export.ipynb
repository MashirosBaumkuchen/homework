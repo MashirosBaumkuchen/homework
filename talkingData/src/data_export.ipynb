{
 "cells": [
  {
   "cell_type": "code",
   "execution_count": 1,
   "metadata": {},
   "outputs": [
    {
     "name": "stdout",
     "output_type": "stream",
     "text": [
      "load train...\n"
     ]
    }
   ],
   "source": [
    "VALIDATE = True\n",
    "\n",
    "MAX_ROUNDS = 1000\n",
    "EARLY_STOP = 50\n",
    "OPT_ROUNDS = 680\n",
    "\n",
    "path = '../input/'\n",
    "FULL_OUTFILE = '../output/lgbt0417_dev.csv'\n",
    "VALID_OUTFILE = '../output/lgbt0417_dev_vaild.csv'\n",
    "\n",
    "import pandas as pd\n",
    "import time\n",
    "import numpy as np\n",
    "from sklearn.model_selection import train_test_split \n",
    "import lightgbm as lgb\n",
    "\n",
    "dtypes = {\n",
    "        'ip'            : 'uint32',\n",
    "        'app'           : 'uint16',\n",
    "        'device'        : 'uint16',\n",
    "        'os'            : 'uint16',\n",
    "        'channel'       : 'uint16',\n",
    "        'is_attributed' : 'uint8',\n",
    "        'click_id'      : 'uint32'\n",
    "        }\n",
    "\n",
    "print('load train...')\n",
    "train_cols = ['ip','app','device','os', 'channel', 'click_time', 'is_attributed']\n",
    "train_df = pd.read_csv(path+\"train_sample.csv\", dtype=dtypes, usecols=train_cols)"
   ]
  },
  {
   "cell_type": "code",
   "execution_count": 2,
   "metadata": {},
   "outputs": [
    {
     "data": {
      "text/html": [
       "<div>\n",
       "<style scoped>\n",
       "    .dataframe tbody tr th:only-of-type {\n",
       "        vertical-align: middle;\n",
       "    }\n",
       "\n",
       "    .dataframe tbody tr th {\n",
       "        vertical-align: top;\n",
       "    }\n",
       "\n",
       "    .dataframe thead th {\n",
       "        text-align: right;\n",
       "    }\n",
       "</style>\n",
       "<table border=\"1\" class=\"dataframe\">\n",
       "  <thead>\n",
       "    <tr style=\"text-align: right;\">\n",
       "      <th></th>\n",
       "      <th>ip</th>\n",
       "      <th>app</th>\n",
       "      <th>device</th>\n",
       "      <th>os</th>\n",
       "      <th>channel</th>\n",
       "      <th>click_time</th>\n",
       "      <th>is_attributed</th>\n",
       "    </tr>\n",
       "  </thead>\n",
       "  <tbody>\n",
       "    <tr>\n",
       "      <th>0</th>\n",
       "      <td>87540</td>\n",
       "      <td>12</td>\n",
       "      <td>1</td>\n",
       "      <td>13</td>\n",
       "      <td>497</td>\n",
       "      <td>2017-11-07 09:30:38</td>\n",
       "      <td>0</td>\n",
       "    </tr>\n",
       "    <tr>\n",
       "      <th>1</th>\n",
       "      <td>105560</td>\n",
       "      <td>25</td>\n",
       "      <td>1</td>\n",
       "      <td>17</td>\n",
       "      <td>259</td>\n",
       "      <td>2017-11-07 13:40:27</td>\n",
       "      <td>0</td>\n",
       "    </tr>\n",
       "    <tr>\n",
       "      <th>2</th>\n",
       "      <td>101424</td>\n",
       "      <td>12</td>\n",
       "      <td>1</td>\n",
       "      <td>19</td>\n",
       "      <td>212</td>\n",
       "      <td>2017-11-07 18:05:24</td>\n",
       "      <td>0</td>\n",
       "    </tr>\n",
       "    <tr>\n",
       "      <th>3</th>\n",
       "      <td>94584</td>\n",
       "      <td>13</td>\n",
       "      <td>1</td>\n",
       "      <td>13</td>\n",
       "      <td>477</td>\n",
       "      <td>2017-11-07 04:58:08</td>\n",
       "      <td>0</td>\n",
       "    </tr>\n",
       "    <tr>\n",
       "      <th>4</th>\n",
       "      <td>68413</td>\n",
       "      <td>12</td>\n",
       "      <td>1</td>\n",
       "      <td>1</td>\n",
       "      <td>178</td>\n",
       "      <td>2017-11-09 09:00:09</td>\n",
       "      <td>0</td>\n",
       "    </tr>\n",
       "  </tbody>\n",
       "</table>\n",
       "</div>"
      ],
      "text/plain": [
       "       ip  app  device  os  channel           click_time  is_attributed\n",
       "0   87540   12       1  13      497  2017-11-07 09:30:38              0\n",
       "1  105560   25       1  17      259  2017-11-07 13:40:27              0\n",
       "2  101424   12       1  19      212  2017-11-07 18:05:24              0\n",
       "3   94584   13       1  13      477  2017-11-07 04:58:08              0\n",
       "4   68413   12       1   1      178  2017-11-09 09:00:09              0"
      ]
     },
     "execution_count": 2,
     "metadata": {},
     "output_type": "execute_result"
    }
   ],
   "source": [
    "train_df.head()"
   ]
  },
  {
   "cell_type": "code",
   "execution_count": 56,
   "metadata": {},
   "outputs": [],
   "source": [
    "train_df['hour'] = pd.to_datetime(train_df.click_time).dt.hour.astype('uint8')\n",
    "train_df['day'] = pd.to_datetime(train_df.click_time).dt.day.astype('uint8')\n",
    "train_df['weekday'] = pd.to_datetime(train_df.click_time).dt.weekday.astype('uint8')"
   ]
  },
  {
   "cell_type": "code",
   "execution_count": 5,
   "metadata": {},
   "outputs": [],
   "source": [
    "import matplotlib.pyplot as plt\n",
    "import seaborn as sns"
   ]
  },
  {
   "cell_type": "code",
   "execution_count": 25,
   "metadata": {},
   "outputs": [
    {
     "data": {
      "text/plain": [
       "<matplotlib.axes._subplots.AxesSubplot at 0x1157d5780>"
      ]
     },
     "execution_count": 25,
     "metadata": {},
     "output_type": "execute_result"
    },
    {
     "data": {
      "image/png": "[encoded data removed]",
      "text/plain": [
       "<Figure size 432x288 with 1 Axes>"
      ]
     },
     "metadata": {},
     "output_type": "display_data"
    }
   ],
   "source": [
    "ax = plt.axes()\n",
    "data = train_df.groupby(['day'])[['is_attributed']].count()\n",
    "sns.barplot(x=data.index, y=data['is_attributed'], alpha=0.8, color='violet', ax=ax)"
   ]
  },
  {
   "cell_type": "code",
   "execution_count": 102,
   "metadata": {},
   "outputs": [
    {
     "data": {
      "text/plain": [
       "<matplotlib.axes._subplots.AxesSubplot at 0x117c17908>"
      ]
     },
     "execution_count": 102,
     "metadata": {},
     "output_type": "execute_result"
    },
    {
     "data": {
      "image/png": "[encoded data removed]",
      "text/plain": [
       "<Figure size 432x288 with 1 Axes>"
      ]
     },
     "metadata": {},
     "output_type": "display_data"
    }
   ],
   "source": [
    "ax = plt.axes()\n",
    "data = train_df.groupby(['channel'])[['is_attributed']].count()\n",
    "sns.barplot(x=data.index, y=data['is_attributed'], alpha=0.8, color='violet', ax=ax)"
   ]
  },
  {
   "cell_type": "code",
   "execution_count": 104,
   "metadata": {},
   "outputs": [
    {
     "data": {
      "text/plain": [
       "<matplotlib.axes._subplots.AxesSubplot at 0x114196c50>"
      ]
     },
     "execution_count": 104,
     "metadata": {},
     "output_type": "execute_result"
    },
    {
     "data": {
      "image/png": "[encoded data removed]",
      "text/plain": [
       "<Figure size 432x288 with 1 Axes>"
      ]
     },
     "metadata": {},
     "output_type": "display_data"
    }
   ],
   "source": [
    "ax = plt.axes()\n",
    "data = train_df.groupby(['app'])[['is_attributed']].count()\n",
    "sns.barplot(x=data.index, y=data['is_attributed'], alpha=0.8, color='violet', ax=ax)"
   ]
  },
  {
   "cell_type": "code",
   "execution_count": 101,
   "metadata": {},
   "outputs": [
    {
     "data": {
      "image/png": "[encoded data removed]",
      "text/plain": [
       "<Figure size 432x288 with 1 Axes>"
      ]
     },
     "metadata": {},
     "output_type": "display_data"
    }
   ],
   "source": [
    "temp = pd.crosstab(train_df.hour, train_df.is_attributed)\n",
    "temp.plot(kind='barh', stacked=False, color=['darksalmon', 'violet'],alpha = 0.8, grid=False)\n",
    "plt.show()"
   ]
  },
  {
   "cell_type": "code",
   "execution_count": 106,
   "metadata": {},
   "outputs": [
    {
     "data": {
      "text/plain": [
       "<matplotlib.axes._subplots.AxesSubplot at 0x1cbd8ea90>"
      ]
     },
     "execution_count": 106,
     "metadata": {},
     "output_type": "execute_result"
    },
    {
     "data": {
      "image/png": "[encoded data removed]",
      "text/plain": [
       "<Figure size 432x288 with 1 Axes>"
      ]
     },
     "metadata": {},
     "output_type": "display_data"
    }
   ],
   "source": [
    "ax = plt.axes()\n",
    "data = train_df.groupby(['device'])[['is_attributed']].count()\n",
    "sns.barplot(x=data.index, y=data['is_attributed'], alpha=0.8, color='violet', ax=ax)"
   ]
  },
  {
   "cell_type": "code",
   "execution_count": 10,
   "metadata": {},
   "outputs": [
    {
     "data": {
      "text/html": [
       "<div>\n",
       "<style scoped>\n",
       "    .dataframe tbody tr th:only-of-type {\n",
       "        vertical-align: middle;\n",
       "    }\n",
       "\n",
       "    .dataframe tbody tr th {\n",
       "        vertical-align: top;\n",
       "    }\n",
       "\n",
       "    .dataframe thead th {\n",
       "        text-align: right;\n",
       "    }\n",
       "</style>\n",
       "<table border=\"1\" class=\"dataframe\">\n",
       "  <thead>\n",
       "    <tr style=\"text-align: right;\">\n",
       "      <th></th>\n",
       "      <th>ip</th>\n",
       "      <th>app</th>\n",
       "      <th>device</th>\n",
       "      <th>os</th>\n",
       "      <th>channel</th>\n",
       "      <th>is_attributed</th>\n",
       "      <th>hour</th>\n",
       "      <th>day</th>\n",
       "      <th>weekday</th>\n",
       "    </tr>\n",
       "  </thead>\n",
       "  <tbody>\n",
       "    <tr>\n",
       "      <th>ip</th>\n",
       "      <td>1.000000</td>\n",
       "      <td>0.007742</td>\n",
       "      <td>-0.004462</td>\n",
       "      <td>-0.004084</td>\n",
       "      <td>0.007451</td>\n",
       "      <td>0.023031</td>\n",
       "      <td>-0.000950</td>\n",
       "      <td>0.001723</td>\n",
       "      <td>0.001723</td>\n",
       "    </tr>\n",
       "    <tr>\n",
       "      <th>app</th>\n",
       "      <td>0.007742</td>\n",
       "      <td>1.000000</td>\n",
       "      <td>0.132729</td>\n",
       "      <td>0.132588</td>\n",
       "      <td>-0.030494</td>\n",
       "      <td>0.064376</td>\n",
       "      <td>0.018935</td>\n",
       "      <td>-0.020245</td>\n",
       "      <td>-0.020245</td>\n",
       "    </tr>\n",
       "    <tr>\n",
       "      <th>device</th>\n",
       "      <td>-0.004462</td>\n",
       "      <td>0.132729</td>\n",
       "      <td>1.000000</td>\n",
       "      <td>0.971669</td>\n",
       "      <td>-0.088402</td>\n",
       "      <td>-0.002412</td>\n",
       "      <td>0.003919</td>\n",
       "      <td>-0.003776</td>\n",
       "      <td>-0.003776</td>\n",
       "    </tr>\n",
       "    <tr>\n",
       "      <th>os</th>\n",
       "      <td>-0.004084</td>\n",
       "      <td>0.132588</td>\n",
       "      <td>0.971669</td>\n",
       "      <td>1.000000</td>\n",
       "      <td>-0.084470</td>\n",
       "      <td>-0.002944</td>\n",
       "      <td>0.004808</td>\n",
       "      <td>-0.004661</td>\n",
       "      <td>-0.004661</td>\n",
       "    </tr>\n",
       "    <tr>\n",
       "      <th>channel</th>\n",
       "      <td>0.007451</td>\n",
       "      <td>-0.030494</td>\n",
       "      <td>-0.088402</td>\n",
       "      <td>-0.084470</td>\n",
       "      <td>1.000000</td>\n",
       "      <td>-0.040254</td>\n",
       "      <td>-0.015125</td>\n",
       "      <td>0.017582</td>\n",
       "      <td>0.017582</td>\n",
       "    </tr>\n",
       "    <tr>\n",
       "      <th>is_attributed</th>\n",
       "      <td>0.023031</td>\n",
       "      <td>0.064376</td>\n",
       "      <td>-0.002412</td>\n",
       "      <td>-0.002944</td>\n",
       "      <td>-0.040254</td>\n",
       "      <td>1.000000</td>\n",
       "      <td>-0.006412</td>\n",
       "      <td>0.007331</td>\n",
       "      <td>0.007331</td>\n",
       "    </tr>\n",
       "    <tr>\n",
       "      <th>hour</th>\n",
       "      <td>-0.000950</td>\n",
       "      <td>0.018935</td>\n",
       "      <td>0.003919</td>\n",
       "      <td>0.004808</td>\n",
       "      <td>-0.015125</td>\n",
       "      <td>-0.006412</td>\n",
       "      <td>1.000000</td>\n",
       "      <td>-0.995121</td>\n",
       "      <td>-0.995121</td>\n",
       "    </tr>\n",
       "    <tr>\n",
       "      <th>day</th>\n",
       "      <td>0.001723</td>\n",
       "      <td>-0.020245</td>\n",
       "      <td>-0.003776</td>\n",
       "      <td>-0.004661</td>\n",
       "      <td>0.017582</td>\n",
       "      <td>0.007331</td>\n",
       "      <td>-0.995121</td>\n",
       "      <td>1.000000</td>\n",
       "      <td>1.000000</td>\n",
       "    </tr>\n",
       "    <tr>\n",
       "      <th>weekday</th>\n",
       "      <td>0.001723</td>\n",
       "      <td>-0.020245</td>\n",
       "      <td>-0.003776</td>\n",
       "      <td>-0.004661</td>\n",
       "      <td>0.017582</td>\n",
       "      <td>0.007331</td>\n",
       "      <td>-0.995121</td>\n",
       "      <td>1.000000</td>\n",
       "      <td>1.000000</td>\n",
       "    </tr>\n",
       "  </tbody>\n",
       "</table>\n",
       "</div>"
      ],
      "text/plain": [
       "                     ip       app    device        os   channel  \\\n",
       "ip             1.000000  0.007742 -0.004462 -0.004084  0.007451   \n",
       "app            0.007742  1.000000  0.132729  0.132588 -0.030494   \n",
       "device        -0.004462  0.132729  1.000000  0.971669 -0.088402   \n",
       "os            -0.004084  0.132588  0.971669  1.000000 -0.084470   \n",
       "channel        0.007451 -0.030494 -0.088402 -0.084470  1.000000   \n",
       "is_attributed  0.023031  0.064376 -0.002412 -0.002944 -0.040254   \n",
       "hour          -0.000950  0.018935  0.003919  0.004808 -0.015125   \n",
       "day            0.001723 -0.020245 -0.003776 -0.004661  0.017582   \n",
       "weekday        0.001723 -0.020245 -0.003776 -0.004661  0.017582   \n",
       "\n",
       "               is_attributed      hour       day   weekday  \n",
       "ip                  0.023031 -0.000950  0.001723  0.001723  \n",
       "app                 0.064376  0.018935 -0.020245 -0.020245  \n",
       "device             -0.002412  0.003919 -0.003776 -0.003776  \n",
       "os                 -0.002944  0.004808 -0.004661 -0.004661  \n",
       "channel            -0.040254 -0.015125  0.017582  0.017582  \n",
       "is_attributed       1.000000 -0.006412  0.007331  0.007331  \n",
       "hour               -0.006412  1.000000 -0.995121 -0.995121  \n",
       "day                 0.007331 -0.995121  1.000000  1.000000  \n",
       "weekday             0.007331 -0.995121  1.000000  1.000000  "
      ]
     },
     "execution_count": 10,
     "metadata": {},
     "output_type": "execute_result"
    }
   ],
   "source": [
    "train_df.corr()"
   ]
  },
  {
   "cell_type": "code",
   "execution_count": 107,
   "metadata": {},
   "outputs": [
    {
     "name": "stdout",
     "output_type": "stream",
     "text": [
      "group by : ip, weekday, hour\n"
     ]
    }
   ],
   "source": [
    "print('group by : ip, weekday, hour')\n",
    "gp = train_df[['ip', 'weekday', 'hour', 'channel']]\\\n",
    "    .groupby(by=['ip', 'weekday', 'hour'])[['channel']]\\\n",
    "    .count().reset_index()\\\n",
    "    .rename(index=str, columns={'channel': 'ip_wday_hour'})\n",
    "train_df = train_df.merge(gp, on=['ip','weekday', 'hour'], how='left')"
   ]
  },
  {
   "cell_type": "code",
   "execution_count": 108,
   "metadata": {},
   "outputs": [
    {
     "data": {
      "text/html": [
       "<div>\n",
       "<style scoped>\n",
       "    .dataframe tbody tr th:only-of-type {\n",
       "        vertical-align: middle;\n",
       "    }\n",
       "\n",
       "    .dataframe tbody tr th {\n",
       "        vertical-align: top;\n",
       "    }\n",
       "\n",
       "    .dataframe thead th {\n",
       "        text-align: right;\n",
       "    }\n",
       "</style>\n",
       "<table border=\"1\" class=\"dataframe\">\n",
       "  <thead>\n",
       "    <tr style=\"text-align: right;\">\n",
       "      <th></th>\n",
       "      <th>ip</th>\n",
       "      <th>app</th>\n",
       "      <th>device</th>\n",
       "      <th>os</th>\n",
       "      <th>channel</th>\n",
       "      <th>click_time</th>\n",
       "      <th>is_attributed</th>\n",
       "      <th>hour</th>\n",
       "      <th>day</th>\n",
       "      <th>weekday</th>\n",
       "      <th>ip_wday_hour</th>\n",
       "    </tr>\n",
       "  </thead>\n",
       "  <tbody>\n",
       "    <tr>\n",
       "      <th>0</th>\n",
       "      <td>143657</td>\n",
       "      <td>18</td>\n",
       "      <td>1</td>\n",
       "      <td>28</td>\n",
       "      <td>107</td>\n",
       "      <td>2017-11-06 23:32:57</td>\n",
       "      <td>0</td>\n",
       "      <td>23</td>\n",
       "      <td>6</td>\n",
       "      <td>0</td>\n",
       "      <td>53</td>\n",
       "    </tr>\n",
       "    <tr>\n",
       "      <th>1</th>\n",
       "      <td>4701</td>\n",
       "      <td>26</td>\n",
       "      <td>1</td>\n",
       "      <td>13</td>\n",
       "      <td>121</td>\n",
       "      <td>2017-11-06 23:32:57</td>\n",
       "      <td>0</td>\n",
       "      <td>23</td>\n",
       "      <td>6</td>\n",
       "      <td>0</td>\n",
       "      <td>142</td>\n",
       "    </tr>\n",
       "    <tr>\n",
       "      <th>2</th>\n",
       "      <td>175744</td>\n",
       "      <td>3</td>\n",
       "      <td>1</td>\n",
       "      <td>13</td>\n",
       "      <td>480</td>\n",
       "      <td>2017-11-06 23:32:57</td>\n",
       "      <td>0</td>\n",
       "      <td>23</td>\n",
       "      <td>6</td>\n",
       "      <td>0</td>\n",
       "      <td>55</td>\n",
       "    </tr>\n",
       "    <tr>\n",
       "      <th>3</th>\n",
       "      <td>8391</td>\n",
       "      <td>15</td>\n",
       "      <td>1</td>\n",
       "      <td>17</td>\n",
       "      <td>245</td>\n",
       "      <td>2017-11-06 23:32:57</td>\n",
       "      <td>0</td>\n",
       "      <td>23</td>\n",
       "      <td>6</td>\n",
       "      <td>0</td>\n",
       "      <td>343</td>\n",
       "    </tr>\n",
       "    <tr>\n",
       "      <th>4</th>\n",
       "      <td>121087</td>\n",
       "      <td>64</td>\n",
       "      <td>1</td>\n",
       "      <td>1</td>\n",
       "      <td>459</td>\n",
       "      <td>2017-11-06 23:32:57</td>\n",
       "      <td>0</td>\n",
       "      <td>23</td>\n",
       "      <td>6</td>\n",
       "      <td>0</td>\n",
       "      <td>50</td>\n",
       "    </tr>\n",
       "  </tbody>\n",
       "</table>\n",
       "</div>"
      ],
      "text/plain": [
       "       ip  app  device  os  channel           click_time  is_attributed  hour  \\\n",
       "0  143657   18       1  28      107  2017-11-06 23:32:57              0    23   \n",
       "1    4701   26       1  13      121  2017-11-06 23:32:57              0    23   \n",
       "2  175744    3       1  13      480  2017-11-06 23:32:57              0    23   \n",
       "3    8391   15       1  17      245  2017-11-06 23:32:57              0    23   \n",
       "4  121087   64       1   1      459  2017-11-06 23:32:57              0    23   \n",
       "\n",
       "   day  weekday  ip_wday_hour  \n",
       "0    6        0            53  \n",
       "1    6        0           142  \n",
       "2    6        0            55  \n",
       "3    6        0           343  \n",
       "4    6        0            50  "
      ]
     },
     "execution_count": 108,
     "metadata": {},
     "output_type": "execute_result"
    }
   ],
   "source": [
    "train_df.head()"
   ]
  },
  {
   "cell_type": "code",
   "execution_count": 109,
   "metadata": {},
   "outputs": [
    {
     "data": {
      "text/plain": [
       "<matplotlib.axes._subplots.AxesSubplot at 0x1d3af04e0>"
      ]
     },
     "execution_count": 109,
     "metadata": {},
     "output_type": "execute_result"
    },
    {
     "data": {
      "image/png": "[encoded data removed]",
      "text/plain": [
       "<Figure size 432x288 with 1 Axes>"
      ]
     },
     "metadata": {},
     "output_type": "display_data"
    }
   ],
   "source": [
    "ax = plt.axes()\n",
    "data = train_df.groupby(['ip_wday_hour'])[['is_attributed']].count()\n",
    "sns.barplot(x=data.index, y=data['is_attributed'], alpha=0.8, color='violet', ax=ax)"
   ]
  },
  {
   "cell_type": "code",
   "execution_count": 110,
   "metadata": {},
   "outputs": [],
   "source": [
    "most_freq_hours_in_test_data = [4, 5, 9, 10, 13, 14]\n",
    "least_freq_hours_in_test_data = [6, 11, 15]\n",
    "train_df['in_test_hh'] = (3 \n",
    "                             - 2 * train_df['hour'].isin(most_freq_hours_in_test_data) \n",
    "                             - 1 * train_df['hour'].isin(least_freq_hours_in_test_data)).astype('uint8')"
   ]
  },
  {
   "cell_type": "code",
   "execution_count": 111,
   "metadata": {},
   "outputs": [
    {
     "name": "stdout",
     "output_type": "stream",
     "text": [
      "group by : ip, weekday, in_test_hh\n"
     ]
    }
   ],
   "source": [
    "print('group by : ip, weekday, in_test_hh')\n",
    "gp = train_df[['ip', 'weekday', 'in_test_hh', 'channel']]\\\n",
    "    .groupby(by=['ip', 'weekday', 'in_test_hh'])[['channel']]\\\n",
    "    .count().reset_index()\\\n",
    "    .rename(index=str, columns={'channel': 'ip_wday_test_hh'})\n",
    "train_df = train_df.merge(gp, on=['ip','weekday', 'in_test_hh'], how='left')"
   ]
  },
  {
   "cell_type": "code",
   "execution_count": 112,
   "metadata": {},
   "outputs": [
    {
     "data": {
      "text/html": [
       "<div>\n",
       "<style scoped>\n",
       "    .dataframe tbody tr th:only-of-type {\n",
       "        vertical-align: middle;\n",
       "    }\n",
       "\n",
       "    .dataframe tbody tr th {\n",
       "        vertical-align: top;\n",
       "    }\n",
       "\n",
       "    .dataframe thead th {\n",
       "        text-align: right;\n",
       "    }\n",
       "</style>\n",
       "<table border=\"1\" class=\"dataframe\">\n",
       "  <thead>\n",
       "    <tr style=\"text-align: right;\">\n",
       "      <th></th>\n",
       "      <th>ip</th>\n",
       "      <th>app</th>\n",
       "      <th>device</th>\n",
       "      <th>os</th>\n",
       "      <th>channel</th>\n",
       "      <th>click_time</th>\n",
       "      <th>is_attributed</th>\n",
       "      <th>hour</th>\n",
       "      <th>day</th>\n",
       "      <th>weekday</th>\n",
       "      <th>ip_wday_hour</th>\n",
       "      <th>in_test_hh</th>\n",
       "      <th>ip_wday_test_hh</th>\n",
       "    </tr>\n",
       "  </thead>\n",
       "  <tbody>\n",
       "    <tr>\n",
       "      <th>0</th>\n",
       "      <td>143657</td>\n",
       "      <td>18</td>\n",
       "      <td>1</td>\n",
       "      <td>28</td>\n",
       "      <td>107</td>\n",
       "      <td>2017-11-06 23:32:57</td>\n",
       "      <td>0</td>\n",
       "      <td>23</td>\n",
       "      <td>6</td>\n",
       "      <td>0</td>\n",
       "      <td>53</td>\n",
       "      <td>3</td>\n",
       "      <td>53</td>\n",
       "    </tr>\n",
       "    <tr>\n",
       "      <th>1</th>\n",
       "      <td>4701</td>\n",
       "      <td>26</td>\n",
       "      <td>1</td>\n",
       "      <td>13</td>\n",
       "      <td>121</td>\n",
       "      <td>2017-11-06 23:32:57</td>\n",
       "      <td>0</td>\n",
       "      <td>23</td>\n",
       "      <td>6</td>\n",
       "      <td>0</td>\n",
       "      <td>142</td>\n",
       "      <td>3</td>\n",
       "      <td>142</td>\n",
       "    </tr>\n",
       "    <tr>\n",
       "      <th>2</th>\n",
       "      <td>175744</td>\n",
       "      <td>3</td>\n",
       "      <td>1</td>\n",
       "      <td>13</td>\n",
       "      <td>480</td>\n",
       "      <td>2017-11-06 23:32:57</td>\n",
       "      <td>0</td>\n",
       "      <td>23</td>\n",
       "      <td>6</td>\n",
       "      <td>0</td>\n",
       "      <td>55</td>\n",
       "      <td>3</td>\n",
       "      <td>55</td>\n",
       "    </tr>\n",
       "    <tr>\n",
       "      <th>3</th>\n",
       "      <td>8391</td>\n",
       "      <td>15</td>\n",
       "      <td>1</td>\n",
       "      <td>17</td>\n",
       "      <td>245</td>\n",
       "      <td>2017-11-06 23:32:57</td>\n",
       "      <td>0</td>\n",
       "      <td>23</td>\n",
       "      <td>6</td>\n",
       "      <td>0</td>\n",
       "      <td>343</td>\n",
       "      <td>3</td>\n",
       "      <td>343</td>\n",
       "    </tr>\n",
       "    <tr>\n",
       "      <th>4</th>\n",
       "      <td>121087</td>\n",
       "      <td>64</td>\n",
       "      <td>1</td>\n",
       "      <td>1</td>\n",
       "      <td>459</td>\n",
       "      <td>2017-11-06 23:32:57</td>\n",
       "      <td>0</td>\n",
       "      <td>23</td>\n",
       "      <td>6</td>\n",
       "      <td>0</td>\n",
       "      <td>50</td>\n",
       "      <td>3</td>\n",
       "      <td>50</td>\n",
       "    </tr>\n",
       "  </tbody>\n",
       "</table>\n",
       "</div>"
      ],
      "text/plain": [
       "       ip  app  device  os  channel           click_time  is_attributed  hour  \\\n",
       "0  143657   18       1  28      107  2017-11-06 23:32:57              0    23   \n",
       "1    4701   26       1  13      121  2017-11-06 23:32:57              0    23   \n",
       "2  175744    3       1  13      480  2017-11-06 23:32:57              0    23   \n",
       "3    8391   15       1  17      245  2017-11-06 23:32:57              0    23   \n",
       "4  121087   64       1   1      459  2017-11-06 23:32:57              0    23   \n",
       "\n",
       "   day  weekday  ip_wday_hour  in_test_hh  ip_wday_test_hh  \n",
       "0    6        0            53           3               53  \n",
       "1    6        0           142           3              142  \n",
       "2    6        0            55           3               55  \n",
       "3    6        0           343           3              343  \n",
       "4    6        0            50           3               50  "
      ]
     },
     "execution_count": 112,
     "metadata": {},
     "output_type": "execute_result"
    }
   ],
   "source": [
    "train_df.head()"
   ]
  },
  {
   "cell_type": "code",
   "execution_count": 113,
   "metadata": {},
   "outputs": [
    {
     "data": {
      "text/plain": [
       "<matplotlib.axes._subplots.AxesSubplot at 0x1d3ffd5c0>"
      ]
     },
     "execution_count": 113,
     "metadata": {},
     "output_type": "execute_result"
    },
    {
     "data": {
      "image/png": "[encoded data removed]",
      "text/plain": [
       "<Figure size 432x288 with 1 Axes>"
      ]
     },
     "metadata": {},
     "output_type": "display_data"
    }
   ],
   "source": [
    "ax = plt.axes()\n",
    "data = train_df.groupby(['ip_wday_test_hh'])[['is_attributed']].count()\n",
    "sns.barplot(x=data.index, y=data['is_attributed'], alpha=0.8, color='violet', ax=ax)"
   ]
  },
  {
   "cell_type": "code",
   "execution_count": 117,
   "metadata": {},
   "outputs": [
    {
     "name": "stdout",
     "output_type": "stream",
     "text": [
      "group by : ip, os, hour\n"
     ]
    }
   ],
   "source": [
    "print('group by : ip, os, hour')\n",
    "gp = train_df[['ip', 'os', 'hour', 'channel']]\\\n",
    "    .groupby(by=['ip', 'os', 'hour'])[['channel']]\\\n",
    "    .count().reset_index()\\\n",
    "    .rename(index=str, columns={'channel': 'ip_os_hour'})\n",
    "train_df = train_df.merge(gp, on=['ip','os', 'hour'], how='left')"
   ]
  },
  {
   "cell_type": "code",
   "execution_count": 118,
   "metadata": {},
   "outputs": [
    {
     "data": {
      "text/plain": [
       "<matplotlib.axes._subplots.AxesSubplot at 0x213d78cf8>"
      ]
     },
     "execution_count": 118,
     "metadata": {},
     "output_type": "execute_result"
    },
    {
     "data": {
      "image/png": "[encoded data removed]",
      "text/plain": [
       "<Figure size 432x288 with 1 Axes>"
      ]
     },
     "metadata": {},
     "output_type": "display_data"
    }
   ],
   "source": [
    "ax = plt.axes()\n",
    "data = train_df.groupby(['ip_os_hour'])[['is_attributed']].count()\n",
    "sns.barplot(x=data.index, y=data['is_attributed'], alpha=0.8, color='violet', ax=ax)"
   ]
  },
  {
   "cell_type": "code",
   "execution_count": 119,
   "metadata": {},
   "outputs": [
    {
     "name": "stdout",
     "output_type": "stream",
     "text": [
      "group by : ip, app, hour\n"
     ]
    }
   ],
   "source": [
    "print('group by : ip, app, hour')\n",
    "gp = train_df[['ip', 'app', 'hour', 'channel']]\\\n",
    "    .groupby(by=['ip', 'app', 'hour'])[['channel']]\\\n",
    "    .count().reset_index()\\\n",
    "    .rename(index=str, columns={'channel': 'ip_app_hour'})\n",
    "train_df = train_df.merge(gp, on=['ip','app', 'hour'], how='left')"
   ]
  },
  {
   "cell_type": "code",
   "execution_count": 120,
   "metadata": {},
   "outputs": [
    {
     "data": {
      "text/plain": [
       "<matplotlib.axes._subplots.AxesSubplot at 0x20e945ba8>"
      ]
     },
     "execution_count": 120,
     "metadata": {},
     "output_type": "execute_result"
    },
    {
     "data": {
      "image/png": "[encoded data removed]",
      "text/plain": [
       "<Figure size 432x288 with 1 Axes>"
      ]
     },
     "metadata": {},
     "output_type": "display_data"
    }
   ],
   "source": [
    "ax = plt.axes()\n",
    "data = train_df.groupby(['ip_app_hour'])[['is_attributed']].count()\n",
    "sns.barplot(x=data.index, y=data['is_attributed'], alpha=0.8, color='violet', ax=ax)"
   ]
  },
  {
   "cell_type": "code",
   "execution_count": 121,
   "metadata": {},
   "outputs": [
    {
     "name": "stdout",
     "output_type": "stream",
     "text": [
      "group by : ip, device, hour\n"
     ]
    }
   ],
   "source": [
    "print('group by : ip, device, hour')\n",
    "gp = train_df[['ip', 'device', 'hour', 'channel']]\\\n",
    "    .groupby(by=['ip', 'device', 'hour'])[['channel']]\\\n",
    "    .count().reset_index()\\\n",
    "    .rename(index=str, columns={'channel': 'ip_device_hour'})\n",
    "train_df = train_df.merge(gp, on=['ip','device', 'hour'], how='left')"
   ]
  },
  {
   "cell_type": "code",
   "execution_count": 122,
   "metadata": {},
   "outputs": [
    {
     "data": {
      "text/plain": [
       "<matplotlib.axes._subplots.AxesSubplot at 0x21f8a65c0>"
      ]
     },
     "execution_count": 122,
     "metadata": {},
     "output_type": "execute_result"
    },
    {
     "data": {
      "image/png": "[encoded data removed]",
      "text/plain": [
       "<Figure size 432x288 with 1 Axes>"
      ]
     },
     "metadata": {},
     "output_type": "display_data"
    }
   ],
   "source": [
    "ax = plt.axes()\n",
    "data = train_df.groupby(['ip_device_hour'])[['is_attributed']].count()\n",
    "sns.barplot(x=data.index, y=data['is_attributed'], alpha=0.8, color='violet', ax=ax)"
   ]
  },
  {
   "cell_type": "code",
   "execution_count": 123,
   "metadata": {},
   "outputs": [
    {
     "name": "stdout",
     "output_type": "stream",
     "text": [
      "group by : os, app, hour\n"
     ]
    }
   ],
   "source": [
    "print('group by : os, app, hour')\n",
    "gp = train_df[['os', 'app', 'hour', 'channel']]\\\n",
    "    .groupby(by=['os', 'app', 'hour'])[['channel']]\\\n",
    "    .count().reset_index()\\\n",
    "    .rename(index=str, columns={'channel': 'os_app_hour'})\n",
    "train_df = train_df.merge(gp, on=['os','app', 'hour'], how='left')"
   ]
  },
  {
   "cell_type": "code",
   "execution_count": 124,
   "metadata": {},
   "outputs": [
    {
     "data": {
      "text/plain": [
       "<matplotlib.axes._subplots.AxesSubplot at 0x167527be0>"
      ]
     },
     "execution_count": 124,
     "metadata": {},
     "output_type": "execute_result"
    },
    {
     "data": {
      "image/png": "[encoded data removed]",
      "text/plain": [
       "<Figure size 432x288 with 1 Axes>"
      ]
     },
     "metadata": {},
     "output_type": "display_data"
    }
   ],
   "source": [
    "ax = plt.axes()\n",
    "data = train_df.groupby(['os_app_hour'])[['is_attributed']].count()\n",
    "sns.barplot(x=data.index, y=data['is_attributed'], alpha=0.8, color='violet', ax=ax)"
   ]
  },
  {
   "cell_type": "code",
   "execution_count": 125,
   "metadata": {},
   "outputs": [
    {
     "data": {
      "text/html": [
       "<div>\n",
       "<style scoped>\n",
       "    .dataframe tbody tr th:only-of-type {\n",
       "        vertical-align: middle;\n",
       "    }\n",
       "\n",
       "    .dataframe tbody tr th {\n",
       "        vertical-align: top;\n",
       "    }\n",
       "\n",
       "    .dataframe thead th {\n",
       "        text-align: right;\n",
       "    }\n",
       "</style>\n",
       "<table border=\"1\" class=\"dataframe\">\n",
       "  <thead>\n",
       "    <tr style=\"text-align: right;\">\n",
       "      <th></th>\n",
       "      <th>ip</th>\n",
       "      <th>app</th>\n",
       "      <th>device</th>\n",
       "      <th>os</th>\n",
       "      <th>channel</th>\n",
       "      <th>click_time</th>\n",
       "      <th>is_attributed</th>\n",
       "      <th>hour</th>\n",
       "      <th>day</th>\n",
       "      <th>weekday</th>\n",
       "      <th>ip_wday_hour_x</th>\n",
       "      <th>in_test_hh</th>\n",
       "      <th>ip_wday_test_hh</th>\n",
       "      <th>ip_wday_hour_y</th>\n",
       "      <th>ip_os_hour</th>\n",
       "      <th>ip_app_hour</th>\n",
       "      <th>ip_device_hour</th>\n",
       "      <th>os_app_hour</th>\n",
       "    </tr>\n",
       "  </thead>\n",
       "  <tbody>\n",
       "    <tr>\n",
       "      <th>0</th>\n",
       "      <td>143657</td>\n",
       "      <td>18</td>\n",
       "      <td>1</td>\n",
       "      <td>28</td>\n",
       "      <td>107</td>\n",
       "      <td>2017-11-06 23:32:57</td>\n",
       "      <td>0</td>\n",
       "      <td>23</td>\n",
       "      <td>6</td>\n",
       "      <td>0</td>\n",
       "      <td>53</td>\n",
       "      <td>3</td>\n",
       "      <td>53</td>\n",
       "      <td>16</td>\n",
       "      <td>16</td>\n",
       "      <td>18</td>\n",
       "      <td>53</td>\n",
       "      <td>640</td>\n",
       "    </tr>\n",
       "    <tr>\n",
       "      <th>1</th>\n",
       "      <td>4701</td>\n",
       "      <td>26</td>\n",
       "      <td>1</td>\n",
       "      <td>13</td>\n",
       "      <td>121</td>\n",
       "      <td>2017-11-06 23:32:57</td>\n",
       "      <td>0</td>\n",
       "      <td>23</td>\n",
       "      <td>6</td>\n",
       "      <td>0</td>\n",
       "      <td>142</td>\n",
       "      <td>3</td>\n",
       "      <td>142</td>\n",
       "      <td>30</td>\n",
       "      <td>30</td>\n",
       "      <td>3</td>\n",
       "      <td>141</td>\n",
       "      <td>4331</td>\n",
       "    </tr>\n",
       "    <tr>\n",
       "      <th>2</th>\n",
       "      <td>175744</td>\n",
       "      <td>3</td>\n",
       "      <td>1</td>\n",
       "      <td>13</td>\n",
       "      <td>480</td>\n",
       "      <td>2017-11-06 23:32:57</td>\n",
       "      <td>0</td>\n",
       "      <td>23</td>\n",
       "      <td>6</td>\n",
       "      <td>0</td>\n",
       "      <td>55</td>\n",
       "      <td>3</td>\n",
       "      <td>55</td>\n",
       "      <td>14</td>\n",
       "      <td>14</td>\n",
       "      <td>8</td>\n",
       "      <td>55</td>\n",
       "      <td>32647</td>\n",
       "    </tr>\n",
       "    <tr>\n",
       "      <th>3</th>\n",
       "      <td>8391</td>\n",
       "      <td>15</td>\n",
       "      <td>1</td>\n",
       "      <td>17</td>\n",
       "      <td>245</td>\n",
       "      <td>2017-11-06 23:32:57</td>\n",
       "      <td>0</td>\n",
       "      <td>23</td>\n",
       "      <td>6</td>\n",
       "      <td>0</td>\n",
       "      <td>343</td>\n",
       "      <td>3</td>\n",
       "      <td>343</td>\n",
       "      <td>5</td>\n",
       "      <td>5</td>\n",
       "      <td>18</td>\n",
       "      <td>343</td>\n",
       "      <td>6306</td>\n",
       "    </tr>\n",
       "    <tr>\n",
       "      <th>4</th>\n",
       "      <td>121087</td>\n",
       "      <td>64</td>\n",
       "      <td>1</td>\n",
       "      <td>1</td>\n",
       "      <td>459</td>\n",
       "      <td>2017-11-06 23:32:57</td>\n",
       "      <td>0</td>\n",
       "      <td>23</td>\n",
       "      <td>6</td>\n",
       "      <td>0</td>\n",
       "      <td>50</td>\n",
       "      <td>3</td>\n",
       "      <td>50</td>\n",
       "      <td>5</td>\n",
       "      <td>5</td>\n",
       "      <td>4</td>\n",
       "      <td>50</td>\n",
       "      <td>193</td>\n",
       "    </tr>\n",
       "  </tbody>\n",
       "</table>\n",
       "</div>"
      ],
      "text/plain": [
       "       ip  app  device  os  channel           click_time  is_attributed  hour  \\\n",
       "0  143657   18       1  28      107  2017-11-06 23:32:57              0    23   \n",
       "1    4701   26       1  13      121  2017-11-06 23:32:57              0    23   \n",
       "2  175744    3       1  13      480  2017-11-06 23:32:57              0    23   \n",
       "3    8391   15       1  17      245  2017-11-06 23:32:57              0    23   \n",
       "4  121087   64       1   1      459  2017-11-06 23:32:57              0    23   \n",
       "\n",
       "   day  weekday  ip_wday_hour_x  in_test_hh  ip_wday_test_hh  ip_wday_hour_y  \\\n",
       "0    6        0              53           3               53              16   \n",
       "1    6        0             142           3              142              30   \n",
       "2    6        0              55           3               55              14   \n",
       "3    6        0             343           3              343               5   \n",
       "4    6        0              50           3               50               5   \n",
       "\n",
       "   ip_os_hour  ip_app_hour  ip_device_hour  os_app_hour  \n",
       "0          16           18              53          640  \n",
       "1          30            3             141         4331  \n",
       "2          14            8              55        32647  \n",
       "3           5           18             343         6306  \n",
       "4           5            4              50          193  "
      ]
     },
     "execution_count": 125,
     "metadata": {},
     "output_type": "execute_result"
    }
   ],
   "source": [
    "train_df.head()"
   ]
  },
  {
   "cell_type": "code",
   "execution_count": 127,
   "metadata": {},
   "outputs": [
    {
     "name": "stdout",
     "output_type": "stream",
     "text": [
      "group by : os, wday, hour\n"
     ]
    }
   ],
   "source": [
    "print('group by : os, wday, hour')\n",
    "gp = train_df[['os', 'weekday', 'hour', 'channel']]\\\n",
    "    .groupby(by=['os', 'weekday', 'hour'])[['channel']]\\\n",
    "    .count().reset_index()\\\n",
    "    .rename(index=str, columns={'channel': 'os_wday_hour'})\n",
    "train_df = train_df.merge(gp, on=['os','weekday', 'hour'], how='left')"
   ]
  },
  {
   "cell_type": "code",
   "execution_count": 128,
   "metadata": {},
   "outputs": [
    {
     "data": {
      "text/plain": [
       "<matplotlib.axes._subplots.AxesSubplot at 0x17750e390>"
      ]
     },
     "execution_count": 128,
     "metadata": {},
     "output_type": "execute_result"
    },
    {
     "data": {
      "image/png": "[encoded data removed]",
      "text/plain": [
       "<Figure size 432x288 with 1 Axes>"
      ]
     },
     "metadata": {},
     "output_type": "display_data"
    }
   ],
   "source": [
    "ax = plt.axes()\n",
    "data = train_df.groupby(['os_wday_hour'])[['is_attributed']].count()\n",
    "sns.barplot(x=data.index, y=data['is_attributed'], alpha=0.8, color='violet', ax=ax)"
   ]
  },
  {
   "cell_type": "code",
   "execution_count": 129,
   "metadata": {},
   "outputs": [
    {
     "name": "stdout",
     "output_type": "stream",
     "text": [
      "group by : app, wday, hour\n"
     ]
    }
   ],
   "source": [
    "print('group by : app, wday, hour')\n",
    "gp = train_df[['app', 'weekday', 'hour', 'channel']]\\\n",
    "    .groupby(by=['app', 'weekday', 'hour'])[['channel']]\\\n",
    "    .count().reset_index()\\\n",
    "    .rename(index=str, columns={'channel': 'app_wday_hour'})\n",
    "train_df = train_df.merge(gp, on=['app','weekday', 'hour'], how='left')"
   ]
  },
  {
   "cell_type": "code",
   "execution_count": 130,
   "metadata": {},
   "outputs": [
    {
     "data": {
      "text/plain": [
       "<matplotlib.axes._subplots.AxesSubplot at 0x17756ff98>"
      ]
     },
     "execution_count": 130,
     "metadata": {},
     "output_type": "execute_result"
    },
    {
     "data": {
      "image/png": "[encoded data removed]",
      "text/plain": [
       "<Figure size 432x288 with 1 Axes>"
      ]
     },
     "metadata": {},
     "output_type": "display_data"
    }
   ],
   "source": [
    "ax = plt.axes()\n",
    "data = train_df.groupby(['app_wday_hour'])[['is_attributed']].count()\n",
    "sns.barplot(x=data.index, y=data['is_attributed'], alpha=0.8, color='violet', ax=ax)"
   ]
  },
  {
   "cell_type": "code",
   "execution_count": null,
   "metadata": {},
   "outputs": [],
   "source": [
    "def merge_feature():\n",
    "    print('group by : ip, os, hour')\n",
    "    gp = train_df[['ip', 'os', 'hour', 'channel']]\\\n",
    "        .groupby(by=['ip', 'os', 'hour'])[['channel']]\\\n",
    "        .count().reset_index()\\\n",
    "        .rename(index=str, columns={'channel': 'ip_os_hour'})\n",
    "    train_df = train_df.merge(gp, on=['ip','os', 'hour'], how='left')\n",
    "    \n",
    "    print('group by : ip, app, hour')\n",
    "    gp = train_df[['ip', 'app', 'hour', 'channel']]\\\n",
    "        .groupby(by=['ip', 'app', 'hour'])[['channel']]\\\n",
    "        .count().reset_index()\\\n",
    "        .rename(index=str, columns={'channel': 'ip_app_hour'})\n",
    "    train_df = train_df.merge(gp, on=['ip','app', 'hour'], how='left')\n",
    "    \n",
    "    print('group by : os, app, hour')\n",
    "    gp = train_df[['os', 'app', 'hour', 'channel']]\\\n",
    "        .groupby(by=['os', 'app', 'hour'])[['channel']]\\\n",
    "        .count().reset_index()\\\n",
    "        .rename(index=str, columns={'channel': 'os_app_hour'})\n",
    "    train_df = train_df.merge(gp, on=['os','app', 'hour'], how='left')\n",
    "    \n",
    "    print('group by : os, wday, hour')\n",
    "    gp = train_df[['os', 'weekday', 'hour', 'channel']]\\\n",
    "        .groupby(by=['os', 'weekday', 'hour'])[['channel']]\\\n",
    "        .count().reset_index()\\\n",
    "        .rename(index=str, columns={'channel': 'os_wday_hour'})\n",
    "    train_df = train_df.merge(gp, on=['os','weekday', 'hour'], how='left')\n",
    "    \n",
    "    print('group by : app, wday, hour')\n",
    "    gp = train_df[['app', 'weekday', 'hour', 'channel']]\\\n",
    "        .groupby(by=['app', 'weekday', 'hour'])[['channel']]\\\n",
    "        .count().reset_index()\\\n",
    "        .rename(index=str, columns={'channel': 'app_wday_hour'})\n",
    "    train_df = train_df.merge(gp, on=['app','weekday', 'hour'], how='left')\n",
    "    \n",
    "    "
   ]
  }
 ],
 "metadata": {
  "kernelspec": {
   "display_name": "Python 3",
   "language": "python",
   "name": "python3"
  },
  "language_info": {
   "codemirror_mode": {
    "name": "ipython",
    "version": 3
   },
   "file_extension": ".py",
   "mimetype": "text/x-python",
   "name": "python",
   "nbconvert_exporter": "python",
   "pygments_lexer": "ipython3",
   "version": "3.6.4"
  }
 },
 "nbformat": 4,
 "nbformat_minor": 2
}
